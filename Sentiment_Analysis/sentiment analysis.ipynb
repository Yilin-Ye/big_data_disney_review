{
 "cells": [
  {
   "cell_type": "markdown",
   "id": "0a94de0b",
   "metadata": {},
   "source": [
    "Install and import necessary initial libraries"
   ]
  },
  {
   "cell_type": "code",
   "execution_count": 5,
   "id": "9a30ac5d",
   "metadata": {},
   "outputs": [
    {
     "name": "stdout",
     "output_type": "stream",
     "text": [
      "Collecting pyspark\n",
      "  Downloading pyspark-3.2.1.tar.gz (281.4 MB)\n",
      "Collecting py4j==0.10.9.3\n",
      "  Downloading py4j-0.10.9.3-py2.py3-none-any.whl (198 kB)\n",
      "Building wheels for collected packages: pyspark\n",
      "  Building wheel for pyspark (setup.py): started\n",
      "  Building wheel for pyspark (setup.py): finished with status 'done'\n",
      "  Created wheel for pyspark: filename=pyspark-3.2.1-py2.py3-none-any.whl size=281853642 sha256=85fe2ea121499054fe625fb6cab56a8edca9930b7b5fef17401d836622af2eb5\n",
      "  Stored in directory: c:\\users\\tfls_\\appdata\\local\\pip\\cache\\wheels\\9f\\f5\\07\\7cd8017084dce4e93e84e92efd1e1d5334db05f2e83bcef74f\n",
      "Successfully built pyspark\n",
      "Installing collected packages: py4j, pyspark\n",
      "Successfully installed py4j-0.10.9.3 pyspark-3.2.1\n"
     ]
    }
   ],
   "source": [
    "!pip install pyspark "
   ]
  },
  {
   "cell_type": "code",
   "execution_count": 14,
   "id": "5c2f7b9b",
   "metadata": {},
   "outputs": [
    {
     "name": "stderr",
     "output_type": "stream",
     "text": [
      "'apt' 不是内部或外部命令，也不是可运行的程序\n",
      "或批处理文件。\n"
     ]
    }
   ],
   "source": [
    "!pip install -U -q PyDrive\n",
    "!apt install openjdk-8-jdk-headless -qq\n",
    "import os\n",
    "os.environ[\"JAVA_HOME\"] = \"/usr/lib/jvm/java-8-openjdk-amd64\""
   ]
  },
  {
   "cell_type": "code",
   "execution_count": 1,
   "id": "b58a9a8d",
   "metadata": {},
   "outputs": [],
   "source": [
    "import pandas as pd\n",
    "import numpy as np\n",
    "import nltk\n",
    "import matplotlib.pyplot as plt"
   ]
  },
  {
   "cell_type": "markdown",
   "id": "cc4a785b",
   "metadata": {},
   "source": [
    "Create the pyspark session & preprocessing the data"
   ]
  },
  {
   "cell_type": "code",
   "execution_count": 2,
   "id": "56bd1227",
   "metadata": {},
   "outputs": [],
   "source": [
    "from pyspark.sql import SparkSession\n",
    "spark = SparkSession.builder.appName('sentiment').getOrCreate()"
   ]
  },
  {
   "cell_type": "code",
   "execution_count": 3,
   "id": "cd37ca19",
   "metadata": {},
   "outputs": [],
   "source": [
    "#read the data\n",
    "data = spark.read.csv(r'C:\\Users\\tfls_\\Documents\\GitHub\\bigdata\\DisneylandReviews.csv',inferSchema=True,header=True)"
   ]
  },
  {
   "cell_type": "code",
   "execution_count": 4,
   "id": "544a705e",
   "metadata": {},
   "outputs": [
    {
     "name": "stdout",
     "output_type": "stream",
     "text": [
      "+---------+------+----------+--------------------+--------------------+-------------------+\n",
      "|Review_ID|Rating|Year_Month|   Reviewer_Location|         Review_Text|             Branch|\n",
      "+---------+------+----------+--------------------+--------------------+-------------------+\n",
      "|670772142|     4|    2019-4|           Australia|If you've ever be...|Disneyland_HongKong|\n",
      "|670682799|     4|    2019-5|         Philippines|Its been a while ...|Disneyland_HongKong|\n",
      "|670623270|     4|    2019-4|United Arab Emirates|Thanks God it was...|Disneyland_HongKong|\n",
      "|670607911|     4|    2019-4|           Australia|HK Disneyland is ...|Disneyland_HongKong|\n",
      "|670607296|     4|    2019-4|      United Kingdom|the location is n...|Disneyland_HongKong|\n",
      "|670591897|     3|    2019-4|           Singapore|Have been to Disn...|Disneyland_HongKong|\n",
      "|670585330|     5|    2019-4|               India|Great place! Your...|Disneyland_HongKong|\n",
      "|670574142|     3|    2019-3|            Malaysia|Think of it as an...|Disneyland_HongKong|\n",
      "|670571027|     2|    2019-4|           Australia|Feel so let down ...|Disneyland_HongKong|\n",
      "|670570869|     5|    2019-3|               India|I can go on talki...|Disneyland_HongKong|\n",
      "|670443403|     5|    2019-4|       United States|Disneyland never ...|Disneyland_HongKong|\n",
      "|670435886|     5|    2019-4|              Canada|We spent the day ...|Disneyland_HongKong|\n",
      "|670376905|     4|    2019-4|           Australia|We spend two days...|Disneyland_HongKong|\n",
      "|670324965|     5|    2019-4|         Philippines|It was indeed the...|Disneyland_HongKong|\n",
      "|670274554|     5|    2018-9|           Australia|This place is HUG...|Disneyland_HongKong|\n",
      "|670205135|     3|    2019-1|      United Kingdom|We brought ticket...|Disneyland_HongKong|\n",
      "|670199487|     4|    2019-4|     Myanmar (Burma)|Its huge , not en...|Disneyland_HongKong|\n",
      "|670129921|     3|    2019-4|      United Kingdom|Around   60 per p...|Disneyland_HongKong|\n",
      "|670099231|     4|    2019-4|           Australia|It   s Disneyland...|Disneyland_HongKong|\n",
      "|670033848|     5|   2018-11|           Hong Kong|There is nothing ...|Disneyland_HongKong|\n",
      "+---------+------+----------+--------------------+--------------------+-------------------+\n",
      "only showing top 20 rows\n",
      "\n"
     ]
    }
   ],
   "source": [
    "data.show()"
   ]
  },
  {
   "cell_type": "code",
   "execution_count": 5,
   "id": "f5214d00",
   "metadata": {},
   "outputs": [],
   "source": [
    "#import necessary pipeline functions\n",
    "from pyspark.ml.feature import Tokenizer, StopWordsRemover, RegexTokenizer, NGram, MinHashLSH, HashingTF\n",
    "from pyspark.ml import Pipeline\n",
    "from pyspark.ml.linalg import Vectors\n",
    "from pyspark.sql import functions as F"
   ]
  },
  {
   "cell_type": "code",
   "execution_count": 6,
   "id": "36a69aad",
   "metadata": {},
   "outputs": [],
   "source": [
    "tokenizer = RegexTokenizer(inputCol=\"Review_Text\", outputCol=\"lowercase\")\n",
    "remover = StopWordsRemover(inputCol=tokenizer.getOutputCol(), outputCol=\"removed\")\n",
    "pipeline1 = Pipeline(stages=[tokenizer,remover])"
   ]
  },
  {
   "cell_type": "code",
   "execution_count": 7,
   "id": "fbc9f193",
   "metadata": {},
   "outputs": [
    {
     "data": {
      "text/plain": [
       "0        ever disneyland anywhere find disneyland hong ...\n",
       "1        since d last time visit hk disneyland .. yet  ...\n",
       "2        thanks god wasn hot humid visiting park otherw...\n",
       "3        hk disneyland great compact park. unfortunatel...\n",
       "4        location city  took around 1 hour kowlon  kids...\n",
       "                               ...                        \n",
       "42651    went disneyland paris july 03 thought brillian...\n",
       "42652    2 adults 1 child 11 visited disneyland paris b...\n",
       "42653    eleven year old daughter went visit son london...\n",
       "42654    hotel  part disneyland paris complex  wonderfu...\n",
       "42655    went disneyparis resort  1996  small child. mi...\n",
       "Name: cleaned_review, Length: 42656, dtype: object"
      ]
     },
     "execution_count": 7,
     "metadata": {},
     "output_type": "execute_result"
    }
   ],
   "source": [
    "#apply the pipeline to transform the data\n",
    "tmp = pipeline1.fit(data)\n",
    "data_transformed = tmp.transform(data)\n",
    "data_transformed = data_transformed.withColumn(\"concat\", F.concat_ws(\",\",F.col(\"removed\")))\n",
    "data_new = data_transformed.toPandas()\n",
    "data_new[\"cleaned_review\"] = data_new['concat'].str.replace(',',' ')\n",
    "data_new[\"cleaned_review\"]"
   ]
  },
  {
   "cell_type": "markdown",
   "id": "20b071b3",
   "metadata": {},
   "source": [
    "Sentiment analysis with nltk"
   ]
  },
  {
   "cell_type": "code",
   "execution_count": 38,
   "id": "520097f8",
   "metadata": {},
   "outputs": [
    {
     "name": "stdout",
     "output_type": "stream",
     "text": [
      "Collecting nltk\n",
      "  Downloading nltk-3.7-py3-none-any.whl (1.5 MB)\n",
      "Requirement already satisfied: click in c:\\users\\tfls_\\.conda\\envs\\python37\\lib\\site-packages (from nltk) (8.1.2)\n",
      "Requirement already satisfied: tqdm in c:\\users\\tfls_\\.conda\\envs\\python37\\lib\\site-packages (from nltk) (4.62.3)\n",
      "Requirement already satisfied: joblib in c:\\users\\tfls_\\.conda\\envs\\python37\\lib\\site-packages (from nltk) (1.0.1)\n",
      "Requirement already satisfied: regex>=2021.8.3 in c:\\users\\tfls_\\.conda\\envs\\python37\\lib\\site-packages (from nltk) (2022.3.15)\n",
      "Requirement already satisfied: colorama in c:\\users\\tfls_\\appdata\\roaming\\python\\python37\\site-packages (from click->nltk) (0.4.1)\n",
      "Requirement already satisfied: importlib-metadata in c:\\users\\tfls_\\.conda\\envs\\python37\\lib\\site-packages (from click->nltk) (3.10.0)\n",
      "Requirement already satisfied: typing-extensions>=3.6.4 in c:\\users\\tfls_\\.conda\\envs\\python37\\lib\\site-packages (from importlib-metadata->click->nltk) (3.10.0.0)\n",
      "Requirement already satisfied: zipp>=0.5 in c:\\users\\tfls_\\.conda\\envs\\python37\\lib\\site-packages (from importlib-metadata->click->nltk) (3.5.0)\n",
      "Installing collected packages: nltk\n",
      "Successfully installed nltk-3.7\n"
     ]
    }
   ],
   "source": [
    "#import the nltk package for modeling\n",
    "!pip install nltk"
   ]
  },
  {
   "cell_type": "code",
   "execution_count": 93,
   "id": "b0e1430d",
   "metadata": {},
   "outputs": [
    {
     "name": "stderr",
     "output_type": "stream",
     "text": [
      "[nltk_data] Downloading package vader_lexicon to\n",
      "[nltk_data]     C:\\Users\\tfls_\\AppData\\Roaming\\nltk_data...\n",
      "[nltk_data]   Package vader_lexicon is already up-to-date!\n"
     ]
    },
    {
     "data": {
      "text/plain": [
       "True"
      ]
     },
     "execution_count": 93,
     "metadata": {},
     "output_type": "execute_result"
    }
   ],
   "source": [
    "nltk.download('vader_lexicon')"
   ]
  },
  {
   "cell_type": "code",
   "execution_count": 9,
   "id": "35010110",
   "metadata": {},
   "outputs": [],
   "source": [
    "from nltk.sentiment.vader import SentimentIntensityAnalyzer"
   ]
  },
  {
   "cell_type": "code",
   "execution_count": 10,
   "id": "f1614b8c",
   "metadata": {},
   "outputs": [],
   "source": [
    "#create the model\n",
    "model = SentimentIntensityAnalyzer()"
   ]
  },
  {
   "cell_type": "code",
   "execution_count": 12,
   "id": "4afce7fb",
   "metadata": {},
   "outputs": [],
   "source": [
    "#generate the polarity scores based on transformed review\n",
    "data_new[\"Score\"] =data_new[\"cleaned_review\"].apply(lambda review: model.polarity_scores(review))"
   ]
  },
  {
   "cell_type": "code",
   "execution_count": 13,
   "id": "252cab8b",
   "metadata": {},
   "outputs": [],
   "source": [
    "#extract the compound score, which ranges from -1 ~ 1 to determin the sentiment\n",
    "data_new[\"Compound_Score\"] = data_new[\"Score\"].apply(lambda d:d[\"compound\"])"
   ]
  },
  {
   "cell_type": "markdown",
   "id": "01483a49",
   "metadata": {},
   "source": [
    "Generate the score distribution on different ratings"
   ]
  },
  {
   "cell_type": "code",
   "execution_count": 189,
   "id": "4f6a6649",
   "metadata": {
    "scrolled": true
   },
   "outputs": [
    {
     "data": {
      "image/png": "[encoded data removed]",
      "text/plain": [
       "<Figure size 432x288 with 1 Axes>"
      ]
     },
     "metadata": {
      "needs_background": "light"
     },
     "output_type": "display_data"
    }
   ],
   "source": [
    "bins = np.linspace(-1, 1, 50)\n",
    "plt.hist(data_new[data_new['Rating']==1]['Compound_Score'],bins, density=True)\n",
    "plt.title(\"histogram for compound score of rating 1\")\n",
    "plt.show()"
   ]
  },
  {
   "cell_type": "code",
   "execution_count": 121,
   "id": "f20ea0c9",
   "metadata": {},
   "outputs": [
    {
     "data": {
      "image/png": "[encoded data removed]",
      "text/plain": [
       "<Figure size 432x288 with 1 Axes>"
      ]
     },
     "metadata": {
      "needs_background": "light"
     },
     "output_type": "display_data"
    }
   ],
   "source": [
    "plt.hist(data[data['Rating']==2]['Compound_Score'])\n",
    "plt.title(\"histogram for compound score of rating 2\")\n",
    "plt.show()"
   ]
  },
  {
   "cell_type": "code",
   "execution_count": 122,
   "id": "a959dfce",
   "metadata": {},
   "outputs": [
    {
     "data": {
      "image/png": "[encoded data removed]",
      "text/plain": [
       "<Figure size 432x288 with 1 Axes>"
      ]
     },
     "metadata": {
      "needs_background": "light"
     },
     "output_type": "display_data"
    }
   ],
   "source": [
    "plt.hist(data[data['Rating']==3]['Compound_Score'])\n",
    "plt.title(\"histogram for compound score of rating 3\")\n",
    "plt.show()"
   ]
  },
  {
   "cell_type": "code",
   "execution_count": 123,
   "id": "4d3b1902",
   "metadata": {},
   "outputs": [
    {
     "data": {
      "image/png": "[encoded data removed]",
      "text/plain": [
       "<Figure size 432x288 with 1 Axes>"
      ]
     },
     "metadata": {
      "needs_background": "light"
     },
     "output_type": "display_data"
    }
   ],
   "source": [
    "plt.hist(data[data['Rating']==4]['Compound_Score'])\n",
    "plt.title(\"histogram for compound score of rating 4\")\n",
    "plt.show()"
   ]
  },
  {
   "cell_type": "code",
   "execution_count": 228,
   "id": "134144de",
   "metadata": {},
   "outputs": [
    {
     "data": {
      "image/png": "[encoded data removed]",
      "text/plain": [
       "<Figure size 432x288 with 1 Axes>"
      ]
     },
     "metadata": {
      "needs_background": "light"
     },
     "output_type": "display_data"
    }
   ],
   "source": [
    "plt.hist(data_new[data_new['Rating']==5]['Compound_Score'])\n",
    "plt.title(\"histogram for compound score of rating 5\")\n",
    "plt.show()"
   ]
  },
  {
   "cell_type": "markdown",
   "id": "27da5333",
   "metadata": {},
   "source": [
    "Look at the sample reviews from the top score in rating 1 and low score in rating 5"
   ]
  },
  {
   "cell_type": "code",
   "execution_count": 224,
   "id": "2c766987",
   "metadata": {},
   "outputs": [],
   "source": [
    "#length of the review\n",
    "pd.options.display.max_colwidth = 2000"
   ]
  },
  {
   "cell_type": "code",
   "execution_count": 227,
   "id": "8bcd4320",
   "metadata": {},
   "outputs": [
    {
     "data": {
      "text/plain": [
       "34230    I am writing this with a heavy heart having visited this attraction practically every year at Easter for the past 10 years. In fact, we were so disappointed by our experience this time that we probably won't be going back. WHY?With three kids, all under the age of 12, we go there for the rides. However, the following were all closed last week:Practically everything at FRONTIERLAND including:1. Big Thunder Mountain (Fastpass)2. Phantom Manor3. Thunder Mesa Riverboat Landing4. Pocahontas Indian VillageMost of ADVENTURELAND including:5. La Cabane des Robinson6. Pirates' Beach7. Adventure IsleAt FANTASYLAND:8. Peter Pan's Flight (Fastpass)And at DISCOVERYLAND:9. Star Wars (Fastpass)So of the 6 feature attractions (Fastpass), HALF OF THEM WERE CLOSED. And the total (9) equates to about a third of the park!And to compound this, with tickets for access to both parks, the Rock 'n' Roller Coaster (Faspass) at Walt Disney Studios were closed too! They do publish attractions that are closed on their website so CHECK FIRST BEFORE BOOKING YOUR HOLIDAYS! We always go at Easter to avoid the busy summer queues, which we find unbearable. This Easter was unusually quiet   I guess in part due to the closure of so many rides and additionally the recent atrocities in France and Belgium. However, despite this, those who were there were queuing for less rides open, so queues were as long as they usually are.We managed to get on to about 10 rides each in a day. At   270 in entry fees (1 day, 2 parks) for the 5 of us (2 adults, 3 children), that's   27 per ride. Good value for money? Not when you consider that among these 10 were things like the Carrousel and Tea Cups, you might want to consider visiting your local fun fair or UK theme parks. Especially when you add your transport, hotel and food expenses, it presents the prospect of going to Disneyland Paris in a very negative light.We had a VIP Fastpass from a previous visit which they issue to guests that stay in their swanky suites,...\n",
       "Name: Review_Text, dtype: object"
      ]
     },
     "execution_count": 227,
     "metadata": {},
     "output_type": "execute_result"
    }
   ],
   "source": [
    "#A sample review from rating 1 with a score over 0.99\n",
    "data_new[(data_new['Rating']==1)&(data_new['Compound_Score']>0.99)]['Review_Text'][12:13]"
   ]
  },
  {
   "cell_type": "code",
   "execution_count": 220,
   "id": "1a9dcba9",
   "metadata": {},
   "outputs": [
    {
     "data": {
      "text/plain": [
       "35726    Went for five days with the kids. Hate queuing. Hate paying over the odds. Hate marketing machines. Hate the poor food selections.Take a water bottle with you. Or buy a bottle. The refill for the rest of your stay at the drink fountains. We had a hot week and it was a godsend. Don't miss the closing ceremony or the parade: the smile on my kids faces bring tears to your eyes and make the who cost queuing worthwhile.Fabulous staff.\n",
       "Name: Review_Text, dtype: object"
      ]
     },
     "execution_count": 220,
     "metadata": {},
     "output_type": "execute_result"
    }
   ],
   "source": [
    "#A sample review from rating 5 with a score less than -0.9\n",
    "data_new[(data_new['Rating']==5)&(data_new['Compound_Score']<-0.9)]['Review_Text'][2:3]"
   ]
  },
  {
   "cell_type": "markdown",
   "id": "da58c756",
   "metadata": {},
   "source": [
    "Explore the distribution of the score in different branches"
   ]
  },
  {
   "cell_type": "code",
   "execution_count": 183,
   "id": "5c0fa684",
   "metadata": {},
   "outputs": [
    {
     "data": {
      "image/png": "[encoded data removed]",
      "text/plain": [
       "<Figure size 432x288 with 1 Axes>"
      ]
     },
     "metadata": {
      "needs_background": "light"
     },
     "output_type": "display_data"
    }
   ],
   "source": [
    "bins = np.linspace(-1, 1, 100)\n",
    "plt.hist(data_new[data_new['Branch']=='Disneyland_HongKong']['Compound_Score'], bins,color = 'red', density=True, stacked=True, alpha=0.5, label='Hong Kong')\n",
    "plt.hist(data_new[data_new['Branch']=='Disneyland_Paris']['Compound_Score'], bins,color = 'blue', density=True, stacked=True,alpha=0.5, label='Paris')\n",
    "plt.hist(data_new[data_new['Branch']=='Disneyland_California']['Compound_Score'], bins,color = 'yellow', density=True, stacked=True,alpha=0.5, label='California')\n",
    "plt.title(\"histogram for compound score of all places\")\n",
    "plt.legend(loc='upper left')\n",
    "plt.show()"
   ]
  }
 ],
 "metadata": {
  "kernelspec": {
   "display_name": "Python 3 (ipykernel)",
   "language": "python",
   "name": "python3"
  },
  "language_info": {
   "codemirror_mode": {
    "name": "ipython",
    "version": 3
   },
   "file_extension": ".py",
   "mimetype": "text/x-python",
   "name": "python",
   "nbconvert_exporter": "python",
   "pygments_lexer": "ipython3",
   "version": "3.7.1"
  }
 },
 "nbformat": 4,
 "nbformat_minor": 5
}
